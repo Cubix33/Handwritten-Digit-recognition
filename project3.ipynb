{
 "cells": [
  {
   "cell_type": "code",
   "execution_count": 1,
   "id": "d1906fd2",
   "metadata": {},
   "outputs": [],
   "source": [
    "import numpy as np\n",
    "import pandas as pd"
   ]
  },
  {
   "cell_type": "code",
   "execution_count": 4,
   "id": "3102ee91",
   "metadata": {},
   "outputs": [
    {
     "name": "stdout",
     "output_type": "stream",
     "text": [
      "WARNING:tensorflow:From C:\\Users\\amren\\anaconda3\\envs\\keras_env\\lib\\site-packages\\keras\\src\\losses.py:2976: The name tf.losses.sparse_softmax_cross_entropy is deprecated. Please use tf.compat.v1.losses.sparse_softmax_cross_entropy instead.\n",
      "\n"
     ]
    }
   ],
   "source": [
    "from tensorflow.keras import datasets"
   ]
  },
  {
   "cell_type": "code",
   "execution_count": 5,
   "id": "0f456237",
   "metadata": {},
   "outputs": [],
   "source": [
    "(x_train, y_train), (x_test, y_test)=datasets.mnist.load_data()"
   ]
  },
  {
   "cell_type": "code",
   "execution_count": 6,
   "id": "b10ae34b-4f1f-4817-8c17-40dcfa09a0ac",
   "metadata": {},
   "outputs": [
    {
     "data": {
      "text/plain": [
       "array([[[0, 0, 0, ..., 0, 0, 0],\n",
       "        [0, 0, 0, ..., 0, 0, 0],\n",
       "        [0, 0, 0, ..., 0, 0, 0],\n",
       "        ...,\n",
       "        [0, 0, 0, ..., 0, 0, 0],\n",
       "        [0, 0, 0, ..., 0, 0, 0],\n",
       "        [0, 0, 0, ..., 0, 0, 0]],\n",
       "\n",
       "       [[0, 0, 0, ..., 0, 0, 0],\n",
       "        [0, 0, 0, ..., 0, 0, 0],\n",
       "        [0, 0, 0, ..., 0, 0, 0],\n",
       "        ...,\n",
       "        [0, 0, 0, ..., 0, 0, 0],\n",
       "        [0, 0, 0, ..., 0, 0, 0],\n",
       "        [0, 0, 0, ..., 0, 0, 0]],\n",
       "\n",
       "       [[0, 0, 0, ..., 0, 0, 0],\n",
       "        [0, 0, 0, ..., 0, 0, 0],\n",
       "        [0, 0, 0, ..., 0, 0, 0],\n",
       "        ...,\n",
       "        [0, 0, 0, ..., 0, 0, 0],\n",
       "        [0, 0, 0, ..., 0, 0, 0],\n",
       "        [0, 0, 0, ..., 0, 0, 0]],\n",
       "\n",
       "       ...,\n",
       "\n",
       "       [[0, 0, 0, ..., 0, 0, 0],\n",
       "        [0, 0, 0, ..., 0, 0, 0],\n",
       "        [0, 0, 0, ..., 0, 0, 0],\n",
       "        ...,\n",
       "        [0, 0, 0, ..., 0, 0, 0],\n",
       "        [0, 0, 0, ..., 0, 0, 0],\n",
       "        [0, 0, 0, ..., 0, 0, 0]],\n",
       "\n",
       "       [[0, 0, 0, ..., 0, 0, 0],\n",
       "        [0, 0, 0, ..., 0, 0, 0],\n",
       "        [0, 0, 0, ..., 0, 0, 0],\n",
       "        ...,\n",
       "        [0, 0, 0, ..., 0, 0, 0],\n",
       "        [0, 0, 0, ..., 0, 0, 0],\n",
       "        [0, 0, 0, ..., 0, 0, 0]],\n",
       "\n",
       "       [[0, 0, 0, ..., 0, 0, 0],\n",
       "        [0, 0, 0, ..., 0, 0, 0],\n",
       "        [0, 0, 0, ..., 0, 0, 0],\n",
       "        ...,\n",
       "        [0, 0, 0, ..., 0, 0, 0],\n",
       "        [0, 0, 0, ..., 0, 0, 0],\n",
       "        [0, 0, 0, ..., 0, 0, 0]]], dtype=uint8)"
      ]
     },
     "execution_count": 6,
     "metadata": {},
     "output_type": "execute_result"
    }
   ],
   "source": [
    "x_train"
   ]
  },
  {
   "cell_type": "code",
   "execution_count": 7,
   "id": "0c0ddf3f-8f0d-487e-ad2f-62939c88dce9",
   "metadata": {},
   "outputs": [
    {
     "data": {
      "text/plain": [
       "array([5, 0, 4, ..., 5, 6, 8], dtype=uint8)"
      ]
     },
     "execution_count": 7,
     "metadata": {},
     "output_type": "execute_result"
    }
   ],
   "source": [
    "y_train"
   ]
  },
  {
   "cell_type": "code",
   "execution_count": 8,
   "id": "2f3759b4-c583-4269-af8f-b5ca8334238b",
   "metadata": {},
   "outputs": [
    {
     "data": {
      "text/plain": [
       "(60000, 28, 28)"
      ]
     },
     "execution_count": 8,
     "metadata": {},
     "output_type": "execute_result"
    }
   ],
   "source": [
    "x_train.shape #dataset contains 60k images"
   ]
  },
  {
   "cell_type": "code",
   "execution_count": 9,
   "id": "ca703185-0b04-4ef8-aed9-f225b3f76308",
   "metadata": {},
   "outputs": [
    {
     "data": {
      "text/plain": [
       "(10000, 28, 28)"
      ]
     },
     "execution_count": 9,
     "metadata": {},
     "output_type": "execute_result"
    }
   ],
   "source": [
    "x_test.shape "
   ]
  },
  {
   "cell_type": "code",
   "execution_count": 10,
   "id": "5365baa2-c854-4b0a-88c6-8ff50f62d606",
   "metadata": {},
   "outputs": [],
   "source": [
    "width, height=28, 28 #every image contains 3rgb channels, height, width, rgb\n",
    "input_shape=(width, height, 1)"
   ]
  },
  {
   "cell_type": "code",
   "execution_count": 11,
   "id": "c255d67b-4ec2-4132-9c3f-beefacd7d7eb",
   "metadata": {},
   "outputs": [
    {
     "data": {
      "text/plain": [
       "(28, 28, 1)"
      ]
     },
     "execution_count": 11,
     "metadata": {},
     "output_type": "execute_result"
    }
   ],
   "source": [
    "input_shape"
   ]
  },
  {
   "cell_type": "code",
   "execution_count": 12,
   "id": "83854532-3c7f-4324-b22e-9a0c2a899f59",
   "metadata": {},
   "outputs": [],
   "source": [
    "x_train=x_train.reshape(x_train.shape[0], height, width, 1)\n",
    "x_test=x_test.reshape(x_test.shape[0], height, width, 1)"
   ]
  },
  {
   "cell_type": "code",
   "execution_count": 13,
   "id": "930544f4-61ce-44dc-a7d2-e0dc9c670135",
   "metadata": {},
   "outputs": [
    {
     "data": {
      "text/plain": [
       "(60000, 28, 28, 1)"
      ]
     },
     "execution_count": 13,
     "metadata": {},
     "output_type": "execute_result"
    }
   ],
   "source": [
    "x_train.shape # we use one to signify grayscale"
   ]
  },
  {
   "cell_type": "code",
   "execution_count": 14,
   "id": "69874284-9df2-404f-b183-bab3bff1ad62",
   "metadata": {},
   "outputs": [
    {
     "data": {
      "text/plain": [
       "(60000,)"
      ]
     },
     "execution_count": 14,
     "metadata": {},
     "output_type": "execute_result"
    }
   ],
   "source": [
    "y_train.shape"
   ]
  },
  {
   "cell_type": "code",
   "execution_count": 15,
   "id": "9f717f4c-9ee7-406c-9689-4e466716bff9",
   "metadata": {},
   "outputs": [
    {
     "name": "stdout",
     "output_type": "stream",
     "text": [
      "Requirement already satisfied: scikit-learn in c:\\users\\amren\\anaconda3\\envs\\keras_env\\lib\\site-packages (1.3.2)\n",
      "Requirement already satisfied: numpy<2.0,>=1.17.3 in c:\\users\\amren\\anaconda3\\envs\\keras_env\\lib\\site-packages (from scikit-learn) (1.26.0)\n",
      "Requirement already satisfied: scipy>=1.5.0 in c:\\users\\amren\\anaconda3\\envs\\keras_env\\lib\\site-packages (from scikit-learn) (1.11.3)\n",
      "Requirement already satisfied: joblib>=1.1.1 in c:\\users\\amren\\anaconda3\\envs\\keras_env\\lib\\site-packages (from scikit-learn) (1.3.2)\n",
      "Requirement already satisfied: threadpoolctl>=2.0.0 in c:\\users\\amren\\anaconda3\\envs\\keras_env\\lib\\site-packages (from scikit-learn) (3.2.0)\n",
      "Note: you may need to restart the kernel to use updated packages.\n"
     ]
    }
   ],
   "source": [
    "%pip install scikit-learn"
   ]
  },
  {
   "cell_type": "code",
   "execution_count": 16,
   "id": "ded875ba-881e-4e17-a9d1-eb06694460bb",
   "metadata": {},
   "outputs": [],
   "source": [
    "from sklearn.model_selection import train_test_split\n",
    "x_train, x_val, y_train, y_val=train_test_split(x_train, y_train, test_size=0.1)"
   ]
  },
  {
   "cell_type": "code",
   "execution_count": 17,
   "id": "6dcc25f7-c17d-479f-8afc-e7e17302d31c",
   "metadata": {},
   "outputs": [
    {
     "data": {
      "text/plain": [
       "6000"
      ]
     },
     "execution_count": 17,
     "metadata": {},
     "output_type": "execute_result"
    }
   ],
   "source": [
    "len(x_val)"
   ]
  },
  {
   "cell_type": "code",
   "execution_count": 18,
   "id": "c8337676-7f8a-4979-94b7-eb30e7e1dfe9",
   "metadata": {},
   "outputs": [],
   "source": [
    "x_train=(x_train-x_train.mean())/x_train.std() #feature scaling\n",
    "x_val=(x_val-x_val.mean())/x_val.std()\n",
    "x_test=(x_test-x_test.mean())/x_test.std()"
   ]
  },
  {
   "cell_type": "code",
   "execution_count": 19,
   "id": "134bd044-6bf3-418d-9df7-93d77cf85228",
   "metadata": {},
   "outputs": [],
   "source": [
    "from tensorflow import keras"
   ]
  },
  {
   "cell_type": "code",
   "execution_count": 20,
   "id": "e0166fc4-a575-4bb7-89ff-333943c04b96",
   "metadata": {},
   "outputs": [],
   "source": [
    "num_labels=10\n",
    "y_train=keras.utils.to_categorical(y_train)"
   ]
  },
  {
   "cell_type": "code",
   "execution_count": 21,
   "id": "1510fd37-eebd-45f4-a004-455e483d77ef",
   "metadata": {},
   "outputs": [
    {
     "data": {
      "text/plain": [
       "array([[0., 1., 0., ..., 0., 0., 0.],\n",
       "       [1., 0., 0., ..., 0., 0., 0.],\n",
       "       [0., 0., 0., ..., 1., 0., 0.],\n",
       "       ...,\n",
       "       [0., 0., 0., ..., 0., 0., 0.],\n",
       "       [0., 0., 0., ..., 1., 0., 0.],\n",
       "       [0., 0., 0., ..., 0., 0., 0.]], dtype=float32)"
      ]
     },
     "execution_count": 21,
     "metadata": {},
     "output_type": "execute_result"
    }
   ],
   "source": [
    "y_train"
   ]
  },
  {
   "cell_type": "code",
   "execution_count": 22,
   "id": "dfd305fd-3b15-4566-b727-222a68e7feb3",
   "metadata": {},
   "outputs": [],
   "source": [
    "y_val=keras.utils.to_categorical(y_val)\n",
    "y_test=keras.utils.to_categorical(y_test)"
   ]
  },
  {
   "cell_type": "markdown",
   "id": "a8d5d5e7-7bb0-4d49-9d7a-f20a0928023f",
   "metadata": {},
   "source": []
  },
  {
   "cell_type": "code",
   "execution_count": 23,
   "id": "3e2df84f-3e5f-43d4-9727-772a50988ba4",
   "metadata": {},
   "outputs": [],
   "source": [
    "#MODEL\n",
    "from tensorflow.keras.models import Sequential\n",
    "from tensorflow.keras.layers import Dense, Dropout, Flatten, Input, Conv2D, MaxPooling2D, AveragePooling2D"
   ]
  },
  {
   "cell_type": "code",
   "execution_count": 24,
   "id": "0d719923-26ab-4b29-b394-c1d979ce184c",
   "metadata": {},
   "outputs": [
    {
     "name": "stdout",
     "output_type": "stream",
     "text": [
      "WARNING:tensorflow:From C:\\Users\\amren\\anaconda3\\envs\\keras_env\\lib\\site-packages\\keras\\src\\backend.py:873: The name tf.get_default_graph is deprecated. Please use tf.compat.v1.get_default_graph instead.\n",
      "\n"
     ]
    }
   ],
   "source": [
    "#LENET 5 ARCHITECTURE HAS 5 LAYERS\n",
    "model=Sequential()  #extracting these 5 layers\n",
    "model.add(Conv2D(6, kernel_size=(5,5), strides=(1,1), activation='tanh', input_shape=(28, 28, 1)))\n",
    "model.add(AveragePooling2D(pool_size=(2,2), strides=(1,1)))\n",
    "model.add(Conv2D(16, kernel_size=(5,5), strides=(1,1), activation='tanh'))\n",
    "model.add(AveragePooling2D(pool_size=(2,2), strides=(2,2)))\n",
    "model.add(Conv2D(120, kernel_size=(5,5), strides=(1,1), activation='tanh'))\n",
    "model.add(Flatten())\n",
    "model.add(Dense(84, activation='tanh'))\n",
    "model.add(Dense(num_labels, activation='softmax'))"
   ]
  },
  {
   "cell_type": "code",
   "execution_count": 25,
   "id": "3e016aff-1ff8-4228-8290-5be577889d43",
   "metadata": {},
   "outputs": [
    {
     "name": "stdout",
     "output_type": "stream",
     "text": [
      "Model: \"sequential\"\n",
      "_________________________________________________________________\n",
      " Layer (type)                Output Shape              Param #   \n",
      "=================================================================\n",
      " conv2d (Conv2D)             (None, 24, 24, 6)         156       \n",
      "                                                                 \n",
      " average_pooling2d (Average  (None, 23, 23, 6)         0         \n",
      " Pooling2D)                                                      \n",
      "                                                                 \n",
      " conv2d_1 (Conv2D)           (None, 19, 19, 16)        2416      \n",
      "                                                                 \n",
      " average_pooling2d_1 (Avera  (None, 9, 9, 16)          0         \n",
      " gePooling2D)                                                    \n",
      "                                                                 \n",
      " conv2d_2 (Conv2D)           (None, 5, 5, 120)         48120     \n",
      "                                                                 \n",
      " flatten (Flatten)           (None, 3000)              0         \n",
      "                                                                 \n",
      " dense (Dense)               (None, 84)                252084    \n",
      "                                                                 \n",
      " dense_1 (Dense)             (None, 10)                850       \n",
      "                                                                 \n",
      "=================================================================\n",
      "Total params: 303626 (1.16 MB)\n",
      "Trainable params: 303626 (1.16 MB)\n",
      "Non-trainable params: 0 (0.00 Byte)\n",
      "_________________________________________________________________\n"
     ]
    }
   ],
   "source": [
    "model.summary()"
   ]
  },
  {
   "cell_type": "code",
   "execution_count": 26,
   "id": "106acc7e-b10f-4565-bacb-076eb63327ef",
   "metadata": {},
   "outputs": [
    {
     "name": "stdout",
     "output_type": "stream",
     "text": [
      "WARNING:tensorflow:From C:\\Users\\amren\\anaconda3\\envs\\keras_env\\lib\\site-packages\\keras\\src\\optimizers\\__init__.py:309: The name tf.train.Optimizer is deprecated. Please use tf.compat.v1.train.Optimizer instead.\n",
      "\n"
     ]
    }
   ],
   "source": [
    "model.compile(loss=keras.losses.categorical_crossentropy, optimizer='adam', metrics=['accuracy'])\n",
    "#to minimize losses using loss function"
   ]
  },
  {
   "cell_type": "code",
   "execution_count": 27,
   "id": "ef3289f3-3c9d-4ea8-ae9b-eb040e0f5b7c",
   "metadata": {},
   "outputs": [
    {
     "name": "stdout",
     "output_type": "stream",
     "text": [
      "Epoch 1/5\n",
      "WARNING:tensorflow:From C:\\Users\\amren\\anaconda3\\envs\\keras_env\\lib\\site-packages\\keras\\src\\utils\\tf_utils.py:492: The name tf.ragged.RaggedTensorValue is deprecated. Please use tf.compat.v1.ragged.RaggedTensorValue instead.\n",
      "\n",
      "WARNING:tensorflow:From C:\\Users\\amren\\anaconda3\\envs\\keras_env\\lib\\site-packages\\keras\\src\\engine\\base_layer_utils.py:384: The name tf.executing_eagerly_outside_functions is deprecated. Please use tf.compat.v1.executing_eagerly_outside_functions instead.\n",
      "\n",
      "1688/1688 [==============================] - 17s 9ms/step - loss: 0.2162 - accuracy: 0.9363 - val_loss: 0.1378 - val_accuracy: 0.9593\n",
      "Epoch 2/5\n",
      "1688/1688 [==============================] - 18s 11ms/step - loss: 0.0970 - accuracy: 0.9708 - val_loss: 0.1257 - val_accuracy: 0.9598\n",
      "Epoch 3/5\n",
      "1688/1688 [==============================] - 18s 11ms/step - loss: 0.0790 - accuracy: 0.9761 - val_loss: 0.0814 - val_accuracy: 0.9740\n",
      "Epoch 4/5\n",
      "1688/1688 [==============================] - 18s 11ms/step - loss: 0.0689 - accuracy: 0.9785 - val_loss: 0.0786 - val_accuracy: 0.9800\n",
      "Epoch 5/5\n",
      "1688/1688 [==============================] - 18s 11ms/step - loss: 0.0634 - accuracy: 0.9805 - val_loss: 0.0799 - val_accuracy: 0.9783\n"
     ]
    }
   ],
   "source": [
    "history=model.fit(x_train, y_train, batch_size=32, epochs=5, verbose=1, validation_data=(x_val, y_val))"
   ]
  },
  {
   "cell_type": "code",
   "execution_count": 28,
   "id": "0d1872c8-ad52-4653-afb3-dc26b533804e",
   "metadata": {},
   "outputs": [
    {
     "name": "stdout",
     "output_type": "stream",
     "text": [
      "313/313 [==============================] - 1s 4ms/step - loss: 0.0671 - accuracy: 0.9795\n"
     ]
    }
   ],
   "source": [
    "score= model.evaluate(x_test, y_test, verbose=1)"
   ]
  },
  {
   "cell_type": "code",
   "execution_count": 29,
   "id": "f82f1952-30c6-416c-a936-5125717b3d7e",
   "metadata": {},
   "outputs": [
    {
     "data": {
      "text/plain": [
       "[0.06712142378091812, 0.9794999957084656]"
      ]
     },
     "execution_count": 29,
     "metadata": {},
     "output_type": "execute_result"
    }
   ],
   "source": [
    "score"
   ]
  },
  {
   "cell_type": "code",
   "execution_count": null,
   "id": "53df1c87-058c-4e91-8f54-069b1c406acd",
   "metadata": {},
   "outputs": [],
   "source": []
  }
 ],
 "metadata": {
  "kernelspec": {
   "display_name": "Python 3 (ipykernel)",
   "language": "python",
   "name": "python3"
  },
  "language_info": {
   "codemirror_mode": {
    "name": "ipython",
    "version": 3
   },
   "file_extension": ".py",
   "mimetype": "text/x-python",
   "name": "python",
   "nbconvert_exporter": "python",
   "pygments_lexer": "ipython3",
   "version": "3.11.5"
  }
 },
 "nbformat": 4,
 "nbformat_minor": 5
}
